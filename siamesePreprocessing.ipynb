{
 "cells": [
  {
   "cell_type": "markdown",
   "metadata": {},
   "source": [
    "# Data preprocessing"
   ]
  },
  {
   "cell_type": "markdown",
   "metadata": {},
   "source": [
    "## Goal\n",
    "The goal of this script is to prepare the data in order to train the siamese neural network:\n",
    "- Group all portrait together\n",
    "- Crop face from other pictures using face detection algorithm.\n",
    "- Create training and test sample\n",
    "- Create pairs of pictures:\n",
    "    - Training pairs are couple of pictures from the train sample\n",
    "    - Test pairs are couple of pictures, with one from test sample, one from train sample"
   ]
  },
  {
   "cell_type": "code",
   "execution_count": 1,
   "metadata": {},
   "outputs": [],
   "source": [
    "import os\n",
    "import pandas as pd\n",
    "from random import shuffle\n",
    "from math import floor\n",
    "from PIL import Image\n",
    "import numpy as np\n",
    "from shutil import copy"
   ]
  },
  {
   "cell_type": "code",
   "execution_count": 2,
   "metadata": {},
   "outputs": [],
   "source": [
    "dataRoot = \"D:/Project/DeepLearning/buddhaStyle/Data/original/\"\n",
    "dataPortrait = dataRoot + \"face/\"\n",
    "dataWork = \"D:/Project/DeepLearning/buddhaStyle/Data/workData/\"\n",
    "dataDebout = dataRoot + \"debout/\"\n",
    "dataTailleur = dataRoot + \"tailleur/\""
   ]
  },
  {
   "cell_type": "markdown",
   "metadata": {},
   "source": [
    "## Data distribution\n",
    "Check the distribution of the portrait"
   ]
  },
  {
   "cell_type": "code",
   "execution_count": 3,
   "metadata": {},
   "outputs": [],
   "source": [
    "data = os.listdir(dataPortrait)"
   ]
  },
  {
   "cell_type": "code",
   "execution_count": 4,
   "metadata": {},
   "outputs": [],
   "source": [
    "data2 = list(map(lambda s: s.split('_')[0],data  ))\n",
    "data2 = pd.DataFrame.from_dict( { 'Period':data2  }  )"
   ]
  },
  {
   "cell_type": "code",
   "execution_count": 5,
   "metadata": {},
   "outputs": [
    {
     "data": {
      "text/plain": [
       "Period\n",
       "Chiang%20Saen%20Kindom     1\n",
       "Dvaravati%20Period        31\n",
       "Lanna%20Kingdom            1\n",
       "Lopburi%20Period           3\n",
       "Srivichai%20Kingdom        3\n",
       "Sukhothai%20Period        30\n",
       "Uthong%20Art               7\n",
       "Name: Period, dtype: int64"
      ]
     },
     "execution_count": 5,
     "metadata": {},
     "output_type": "execute_result"
    }
   ],
   "source": [
    "data2.groupby(['Period'])['Period'].count()"
   ]
  },
  {
   "cell_type": "markdown",
   "metadata": {},
   "source": [
    "* Very unbalanced sample  Some style not a lot of face.\n",
    "* Lets try to use face detection model in other picture in order to detect and crop the face of other pictures\n",
    "\n",
    "## Face detection from other pictures"
   ]
  },
  {
   "cell_type": "code",
   "execution_count": 6,
   "metadata": {},
   "outputs": [],
   "source": [
    "# Copy picture from dataPortrait to datWork\n",
    "if not os.path.isdir(dataWork):\n",
    "    os.mkdir(dataWork)\n",
    "\n",
    "for file in os.listdir(dataPortrait):\n",
    "    copy( dataPortrait + file, dataWork + file.split('/')[-1]  )"
   ]
  },
  {
   "cell_type": "code",
   "execution_count": 7,
   "metadata": {},
   "outputs": [],
   "source": [
    "from mtcnn.mtcnn import MTCNN\n",
    "detector = MTCNN()"
   ]
  },
  {
   "cell_type": "code",
   "execution_count": 8,
   "metadata": {},
   "outputs": [],
   "source": [
    "def extractFace(inputPath,outputPath,detector):\n",
    "    '''Function extracting face from a picture and save it in a new picture. '''\n",
    "    \n",
    "    def createTuple(corner):\n",
    "        '''This function return coordonate box of the face, and add 50 pixel to each border'''   \n",
    "        return  (corner[0] -50 ,corner[1] -50 ,corner[0]+corner[2] + 50 ,corner[1]+corner[3] +50 )\n",
    "    \n",
    "    for file in os.listdir(inputPath):\n",
    "        #loop through pictures file\n",
    "        img = Image.open( inputPath + file  )#open the image\n",
    "        array = np.asarray(img)# convert it in numpy array\n",
    "        \n",
    "        faces = detector.detect_faces(array)#Create a liste of face. Face are dictionnary object\n",
    "        \n",
    "        for face in faces:\n",
    "            z = img.crop(createTuple(face['box']))\n",
    "            \n",
    "            \n",
    "            i = 0\n",
    "            p = outputPath + file\n",
    "            \n",
    "            while os.path.isfile(p):\n",
    "                p = p.split('.')[0]+ '_{}.png'.format(i)\n",
    "                i+=1\n",
    "            z.save(p)\n",
    "    print( inputPath + ' has been treated')"
   ]
  },
  {
   "cell_type": "code",
   "execution_count": 9,
   "metadata": {},
   "outputs": [
    {
     "name": "stdout",
     "output_type": "stream",
     "text": [
      "D:/Project/DeepLearning/buddhaStyle/Data/original/debout/ has been treated\n",
      "D:/Project/DeepLearning/buddhaStyle/Data/original/tailleur/ has been treated\n"
     ]
    }
   ],
   "source": [
    "for path in [dataDebout,dataTailleur]:\n",
    "    extractFace(path,dataWork,detector)"
   ]
  },
  {
   "cell_type": "code",
   "execution_count": 10,
   "metadata": {},
   "outputs": [
    {
     "data": {
      "text/plain": [
       "Period\n",
       "Chiang%20Saen%20Kindom     2\n",
       "Dvaravati%20Period        50\n",
       "Lanna%20Kingdom           11\n",
       "Lopburi%20Period          18\n",
       "Rattanakosin%20Period     25\n",
       "Srivichai%20Kingdom       12\n",
       "Sukhothai%20Period        76\n",
       "Uthong%20Art              21\n",
       "Name: Period, dtype: int64"
      ]
     },
     "execution_count": 10,
     "metadata": {},
     "output_type": "execute_result"
    }
   ],
   "source": [
    "# New distribution \n",
    "data = os.listdir(dataWork)\n",
    "\n",
    "data2 = list(map(lambda s: s.split('_')[0],data  ))\n",
    "data2 = pd.DataFrame.from_dict( { 'Period':data2  }  )\n",
    "data2.groupby(['Period'])['Period'].count()"
   ]
  },
  {
   "cell_type": "markdown",
   "metadata": {},
   "source": [
    "Not enough pictures of Chiang Saen art, those pictures are going to use only in test set and check that those face are not reconize as another style\n",
    "\n",
    "## Create test & train samples"
   ]
  },
  {
   "cell_type": "code",
   "execution_count": 11,
   "metadata": {},
   "outputs": [],
   "source": [
    "files = os.listdir(dataWork)\n",
    "\n",
    "data = dict()\n",
    "# Create a dictionary \n",
    "for elt in files:\n",
    "    style = elt.split('_')[0]\n",
    "    if style in data.keys():\n",
    "        data[style].append(elt)\n",
    "    else:\n",
    "        data[style] = [elt]\n"
   ]
  },
  {
   "cell_type": "code",
   "execution_count": 12,
   "metadata": {},
   "outputs": [],
   "source": [
    "tr = dict()\n",
    "test = dict()\n",
    "trainRatio = 0.8\n",
    "\n",
    "for key in data.keys():\n",
    "    if key == 'Chiang%20Saen%20Kindom' :\n",
    "        test[key] = data[key]\n",
    "    else:\n",
    "        z = data[key]\n",
    "        shuffle(z)\n",
    "        n = floor(trainRatio * len(z))\n",
    "        tr[key] = z[:n]\n",
    "        test[key] = z[n:]\n"
   ]
  },
  {
   "cell_type": "markdown",
   "metadata": {},
   "source": [
    "## Create Pairs"
   ]
  },
  {
   "cell_type": "markdown",
   "metadata": {},
   "source": [
    "**Training pairs:**\n",
    "- Create a text file with all pairs of pictures"
   ]
  },
  {
   "cell_type": "code",
   "execution_count": 13,
   "metadata": {},
   "outputs": [],
   "source": [
    "\n",
    "train = []\n",
    "for k in tr.keys():\n",
    "    train.extend( tr[k] )\n",
    "    \n",
    "shuffle(train)\n",
    "train = train[:floor(len(train)*.6)  ]\n",
    "\n",
    "file = open(dataWork + 'train_all.txt' , 'w')\n",
    "file.write('photo1,photo2,y\\n')\n",
    "\n",
    "index = 0\n",
    "for k in train:\n",
    "    for j in train[index:]:\n",
    "        if k.split('_')[0] == j.split('_')[0]:\n",
    "            y = 1\n",
    "        else:\n",
    "            y= 0\n",
    "        file.write('{},{},{}\\n'.format(k,j,y)  )\n",
    "    index += 1\n",
    "file.close()\n",
    "\n",
    "#Randomly select 60% of those couples\n",
    "\n",
    "file  = open(dataWork + 'train_all.txt' , 'r')\n",
    "lines = file.readlines()\n",
    "file.close()\n",
    "\n",
    "\n",
    "\n",
    "file  = open(dataWork + 'train.txt' , 'w')\n",
    "file.write(lines[0])\n",
    "\n",
    "lines.pop(0)\n",
    "shuffle(lines)\n",
    "lines = lines[:floor(0.6*len(lines))]\n",
    "\n",
    "for line in lines:\n",
    "    file.write(line)\n",
    "file.close()"
   ]
  },
  {
   "cell_type": "markdown",
   "metadata": {},
   "source": [
    "**Test pairs:**\n",
    "- Create couple with one picture from the train sample; and one from the test sample\n",
    "- For each picture of the test set, the script below will create 2 pairs per style.\n"
   ]
  },
  {
   "cell_type": "code",
   "execution_count": 14,
   "metadata": {},
   "outputs": [],
   "source": [
    "t = list()\n",
    "for key in  test.keys():\n",
    "    t.extend(test[key])\n",
    "\n",
    "file = open(dataWork + 'test.txt','w')\n",
    "file.write('photo1,photo2,y\\n')\n",
    "for tt in t:\n",
    "    for k in tr.keys():\n",
    "        y= []\n",
    "        d = tr[k]\n",
    "        shuffle(d)\n",
    "        \n",
    "        if len(d)!= 0:\n",
    "\n",
    "            if tt.split('_')[0] == d[0].split('_')[0]:\n",
    "                y.append(1)\n",
    "            else:\n",
    "                y.append(0)\n",
    "\n",
    "            if tt.split('_')[0] == d[1].split('_')[0]:\n",
    "                y.append(1)\n",
    "            else:\n",
    "                y.append(0)        \n",
    "\n",
    "            file.write('{},{},{}\\n'.format(tt,d[0],y[0])  )\n",
    "            file.write('{},{},{}\\n'.format(tt,d[1],y[1])  )\n",
    "file.close()        "
   ]
  },
  {
   "cell_type": "code",
   "execution_count": 15,
   "metadata": {},
   "outputs": [
    {
     "data": {
      "text/html": [
       "<div>\n",
       "<style scoped>\n",
       "    .dataframe tbody tr th:only-of-type {\n",
       "        vertical-align: middle;\n",
       "    }\n",
       "\n",
       "    .dataframe tbody tr th {\n",
       "        vertical-align: top;\n",
       "    }\n",
       "\n",
       "    .dataframe thead th {\n",
       "        text-align: right;\n",
       "    }\n",
       "</style>\n",
       "<table border=\"1\" class=\"dataframe\">\n",
       "  <thead>\n",
       "    <tr style=\"text-align: right;\">\n",
       "      <th></th>\n",
       "      <th>photo1</th>\n",
       "      <th>photo2</th>\n",
       "      <th>y</th>\n",
       "    </tr>\n",
       "  </thead>\n",
       "  <tbody>\n",
       "    <tr>\n",
       "      <th>0</th>\n",
       "      <td>Chiang%20Saen%20Kindom_954.jpg</td>\n",
       "      <td>Dvaravati%20Period_175.jpg</td>\n",
       "      <td>0</td>\n",
       "    </tr>\n",
       "    <tr>\n",
       "      <th>1</th>\n",
       "      <td>Chiang%20Saen%20Kindom_954.jpg</td>\n",
       "      <td>Dvaravati%20Period_143.jpg</td>\n",
       "      <td>0</td>\n",
       "    </tr>\n",
       "    <tr>\n",
       "      <th>2</th>\n",
       "      <td>Chiang%20Saen%20Kindom_954.jpg</td>\n",
       "      <td>Lanna%20Kingdom_968.jpg</td>\n",
       "      <td>0</td>\n",
       "    </tr>\n",
       "    <tr>\n",
       "      <th>3</th>\n",
       "      <td>Chiang%20Saen%20Kindom_954.jpg</td>\n",
       "      <td>Lanna%20Kingdom_974.jpg</td>\n",
       "      <td>0</td>\n",
       "    </tr>\n",
       "    <tr>\n",
       "      <th>4</th>\n",
       "      <td>Chiang%20Saen%20Kindom_954.jpg</td>\n",
       "      <td>Lopburi%20Period_261.jpg</td>\n",
       "      <td>0</td>\n",
       "    </tr>\n",
       "  </tbody>\n",
       "</table>\n",
       "</div>"
      ],
      "text/plain": [
       "                           photo1                      photo2  y\n",
       "0  Chiang%20Saen%20Kindom_954.jpg  Dvaravati%20Period_175.jpg  0\n",
       "1  Chiang%20Saen%20Kindom_954.jpg  Dvaravati%20Period_143.jpg  0\n",
       "2  Chiang%20Saen%20Kindom_954.jpg     Lanna%20Kingdom_968.jpg  0\n",
       "3  Chiang%20Saen%20Kindom_954.jpg     Lanna%20Kingdom_974.jpg  0\n",
       "4  Chiang%20Saen%20Kindom_954.jpg    Lopburi%20Period_261.jpg  0"
      ]
     },
     "execution_count": 15,
     "metadata": {},
     "output_type": "execute_result"
    }
   ],
   "source": [
    "pd.read_csv(dataWork + 'test.txt').head(5)"
   ]
  },
  {
   "cell_type": "code",
   "execution_count": 16,
   "metadata": {},
   "outputs": [
    {
     "data": {
      "text/html": [
       "<div>\n",
       "<style scoped>\n",
       "    .dataframe tbody tr th:only-of-type {\n",
       "        vertical-align: middle;\n",
       "    }\n",
       "\n",
       "    .dataframe tbody tr th {\n",
       "        vertical-align: top;\n",
       "    }\n",
       "\n",
       "    .dataframe thead th {\n",
       "        text-align: right;\n",
       "    }\n",
       "</style>\n",
       "<table border=\"1\" class=\"dataframe\">\n",
       "  <thead>\n",
       "    <tr style=\"text-align: right;\">\n",
       "      <th></th>\n",
       "      <th>photo1</th>\n",
       "      <th>photo2</th>\n",
       "      <th>y</th>\n",
       "    </tr>\n",
       "  </thead>\n",
       "  <tbody>\n",
       "    <tr>\n",
       "      <th>0</th>\n",
       "      <td>Sukhothai%20Period_647.jpg</td>\n",
       "      <td>Rattanakosin%20Period_368.jpg</td>\n",
       "      <td>0</td>\n",
       "    </tr>\n",
       "    <tr>\n",
       "      <th>1</th>\n",
       "      <td>Sukhothai%20Period_644.jpg</td>\n",
       "      <td>Sukhothai%20Period_688.jpg</td>\n",
       "      <td>1</td>\n",
       "    </tr>\n",
       "    <tr>\n",
       "      <th>2</th>\n",
       "      <td>Sukhothai%20Period_644.jpg</td>\n",
       "      <td>Sukhothai%20Period_794.jpg</td>\n",
       "      <td>1</td>\n",
       "    </tr>\n",
       "    <tr>\n",
       "      <th>3</th>\n",
       "      <td>Uthong%20Art_950.jpg</td>\n",
       "      <td>Sukhothai%20Period_906.jpg</td>\n",
       "      <td>0</td>\n",
       "    </tr>\n",
       "    <tr>\n",
       "      <th>4</th>\n",
       "      <td>Lopburi%20Period_319.jpg</td>\n",
       "      <td>Dvaravati%20Period_36.jpg</td>\n",
       "      <td>0</td>\n",
       "    </tr>\n",
       "  </tbody>\n",
       "</table>\n",
       "</div>"
      ],
      "text/plain": [
       "                       photo1                         photo2  y\n",
       "0  Sukhothai%20Period_647.jpg  Rattanakosin%20Period_368.jpg  0\n",
       "1  Sukhothai%20Period_644.jpg     Sukhothai%20Period_688.jpg  1\n",
       "2  Sukhothai%20Period_644.jpg     Sukhothai%20Period_794.jpg  1\n",
       "3        Uthong%20Art_950.jpg     Sukhothai%20Period_906.jpg  0\n",
       "4    Lopburi%20Period_319.jpg      Dvaravati%20Period_36.jpg  0"
      ]
     },
     "execution_count": 16,
     "metadata": {},
     "output_type": "execute_result"
    }
   ],
   "source": [
    "pd.read_csv(dataWork + 'train.txt').head(5)"
   ]
  }
 ],
 "metadata": {
  "kernelspec": {
   "display_name": "Python 3",
   "language": "python",
   "name": "python3"
  },
  "language_info": {
   "codemirror_mode": {
    "name": "ipython",
    "version": 3
   },
   "file_extension": ".py",
   "mimetype": "text/x-python",
   "name": "python",
   "nbconvert_exporter": "python",
   "pygments_lexer": "ipython3",
   "version": "3.6.8"
  }
 },
 "nbformat": 4,
 "nbformat_minor": 2
}
